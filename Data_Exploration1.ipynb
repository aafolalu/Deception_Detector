{
 "cells": [
  {
   "cell_type": "code",
   "execution_count": 92,
   "metadata": {
    "collapsed": true
   },
   "outputs": [],
   "source": [
    "import pandas as pd\n"
   ]
  },
  {
   "cell_type": "code",
   "execution_count": 93,
   "metadata": {},
   "outputs": [
    {
     "data": {
      "text/html": [
       "<div>\n",
       "<style>\n",
       "    .dataframe thead tr:only-child th {\n",
       "        text-align: right;\n",
       "    }\n",
       "\n",
       "    .dataframe thead th {\n",
       "        text-align: left;\n",
       "    }\n",
       "\n",
       "    .dataframe tbody tr th {\n",
       "        vertical-align: top;\n",
       "    }\n",
       "</style>\n",
       "<table border=\"1\" class=\"dataframe\">\n",
       "  <thead>\n",
       "    <tr style=\"text-align: right;\">\n",
       "      <th></th>\n",
       "      <th>DOC_ID</th>\n",
       "      <th>LABEL</th>\n",
       "      <th>RATING</th>\n",
       "      <th>VERIFIED_PURCHASE</th>\n",
       "      <th>PRODUCT_CATEGORY</th>\n",
       "      <th>PRODUCT_ID</th>\n",
       "      <th>PRODUCT_TITLE</th>\n",
       "      <th>REVIEW_TITLE</th>\n",
       "      <th>REVIEW_TEXT</th>\n",
       "    </tr>\n",
       "  </thead>\n",
       "  <tbody>\n",
       "    <tr>\n",
       "      <th>0</th>\n",
       "      <td>1</td>\n",
       "      <td>__label1__</td>\n",
       "      <td>4</td>\n",
       "      <td>N</td>\n",
       "      <td>PC</td>\n",
       "      <td>B00008NG7N</td>\n",
       "      <td>Targus PAUK10U Ultra Mini USB Keypad, Black</td>\n",
       "      <td>useful</td>\n",
       "      <td>When least you think so, this product will sav...</td>\n",
       "    </tr>\n",
       "    <tr>\n",
       "      <th>1</th>\n",
       "      <td>2</td>\n",
       "      <td>__label1__</td>\n",
       "      <td>4</td>\n",
       "      <td>Y</td>\n",
       "      <td>Wireless</td>\n",
       "      <td>B00LH0Y3NM</td>\n",
       "      <td>Note 3 Battery : Stalion Strength Replacement ...</td>\n",
       "      <td>New era for batteries</td>\n",
       "      <td>Lithium batteries are something new introduced...</td>\n",
       "    </tr>\n",
       "    <tr>\n",
       "      <th>2</th>\n",
       "      <td>3</td>\n",
       "      <td>__label1__</td>\n",
       "      <td>3</td>\n",
       "      <td>N</td>\n",
       "      <td>Baby</td>\n",
       "      <td>B000I5UZ1Q</td>\n",
       "      <td>Fisher-Price Papasan Cradle Swing, Starlight</td>\n",
       "      <td>doesn't swing very well.</td>\n",
       "      <td>I purchased this swing for my baby. She is 6 m...</td>\n",
       "    </tr>\n",
       "    <tr>\n",
       "      <th>3</th>\n",
       "      <td>4</td>\n",
       "      <td>__label1__</td>\n",
       "      <td>4</td>\n",
       "      <td>N</td>\n",
       "      <td>Office Products</td>\n",
       "      <td>B003822IRA</td>\n",
       "      <td>Casio MS-80B Standard Function Desktop Calculator</td>\n",
       "      <td>Great computing!</td>\n",
       "      <td>I was looking for an inexpensive desk calcolat...</td>\n",
       "    </tr>\n",
       "    <tr>\n",
       "      <th>4</th>\n",
       "      <td>5</td>\n",
       "      <td>__label1__</td>\n",
       "      <td>4</td>\n",
       "      <td>N</td>\n",
       "      <td>Beauty</td>\n",
       "      <td>B00PWSAXAM</td>\n",
       "      <td>Shine Whitening - Zero Peroxide Teeth Whitenin...</td>\n",
       "      <td>Only use twice a week</td>\n",
       "      <td>I only use it twice a week and the results are...</td>\n",
       "    </tr>\n",
       "  </tbody>\n",
       "</table>\n",
       "</div>"
      ],
      "text/plain": [
       "   DOC_ID       LABEL  RATING VERIFIED_PURCHASE PRODUCT_CATEGORY  PRODUCT_ID  \\\n",
       "0       1  __label1__       4                 N               PC  B00008NG7N   \n",
       "1       2  __label1__       4                 Y         Wireless  B00LH0Y3NM   \n",
       "2       3  __label1__       3                 N             Baby  B000I5UZ1Q   \n",
       "3       4  __label1__       4                 N  Office Products  B003822IRA   \n",
       "4       5  __label1__       4                 N           Beauty  B00PWSAXAM   \n",
       "\n",
       "                                       PRODUCT_TITLE  \\\n",
       "0        Targus PAUK10U Ultra Mini USB Keypad, Black   \n",
       "1  Note 3 Battery : Stalion Strength Replacement ...   \n",
       "2       Fisher-Price Papasan Cradle Swing, Starlight   \n",
       "3  Casio MS-80B Standard Function Desktop Calculator   \n",
       "4  Shine Whitening - Zero Peroxide Teeth Whitenin...   \n",
       "\n",
       "               REVIEW_TITLE                                        REVIEW_TEXT  \n",
       "0                    useful  When least you think so, this product will sav...  \n",
       "1     New era for batteries  Lithium batteries are something new introduced...  \n",
       "2  doesn't swing very well.  I purchased this swing for my baby. She is 6 m...  \n",
       "3          Great computing!  I was looking for an inexpensive desk calcolat...  \n",
       "4     Only use twice a week  I only use it twice a week and the results are...  "
      ]
     },
     "execution_count": 93,
     "metadata": {},
     "output_type": "execute_result"
    }
   ],
   "source": [
    "# CONVERTED FILE TYPE FROM TXT TO CSV\n",
    "# LOAD DATA\n",
    "review = pd.read_csv('/Users/adebisiafolalu/Desktop/OneDrive/Documents/MSc_Assignments/Semester2/NLP/assignment1/Deception_Detector/amazon_reviews.csv')\n",
    "review.head()"
   ]
  },
  {
   "cell_type": "code",
   "execution_count": 98,
   "metadata": {},
   "outputs": [
    {
     "name": "stdout",
     "output_type": "stream",
     "text": [
      "[4 3 1 2 5]\n",
      "['N' 'Y']\n",
      "['PC' 'Wireless' 'Baby' 'Office Products' 'Beauty' 'Health & Personal Care'\n",
      " 'Toys' 'Kitchen' 'Furniture' 'Electronics' 'Camera' 'Sports' 'Home'\n",
      " 'Jewelry' 'Books' 'Grocery' 'Video DVD' 'Tools' 'Home Improvement' 'Shoes'\n",
      " 'Outdoors' 'Luggage' 'Video Games' 'Apparel' 'Lawn and Garden'\n",
      " 'Pet Products' 'Home Entertainment' 'Musical Instruments' 'Watches'\n",
      " 'Automotive']\n"
     ]
    }
   ],
   "source": [
    "# UNIQUE FIELD VALUES\n",
    "print(review['RATING'].unique())\n",
    "print(review['VERIFIED_PURCHASE'].unique())\n",
    "print(review['PRODUCT_CATEGORY'].unique())\n"
   ]
  },
  {
   "cell_type": "code",
   "execution_count": 111,
   "metadata": {},
   "outputs": [],
   "source": [
    "# SELECTING FIELD INPUTS\n",
    "# labels\n",
    "fake = review['LABEL'] == '__label1__'\n",
    "real = review['LABEL'] == '__label2__'\n",
    "\n",
    "# rating\n",
    "one = review['RATING'] == 1\n",
    "two = review['RATING'] == 2\n",
    "three = review['RATING'] == 3\n",
    "four = review['RATING'] == 4\n",
    "five = review['RATING'] == 5\n",
    "\n",
    "# verified purchase\n",
    "y = review['VERIFIED_PURCHASE'] == \"Y\"\n",
    "n = review['VERIFIED_PURCHASE'] == \"N\"\n",
    "\n",
    "pc = review['PRODUCT_CATEGORY'] == 'PC'\n",
    "Wireless = review['PRODUCT_CATEGORY'] == 'Wireless'\n",
    "Baby = review['PRODUCT_CATEGORY'] == 'Baby'\n",
    "Beauty = review['PRODUCT_CATEGORY'] == 'Beauty'\n",
    "Health = review['PRODUCT_CATEGORY'] == 'Health & Personal Care'\n",
    "Toys = review['PRODUCT_CATEGORY'] == 'Toys'\n",
    "Kitchen = review['PRODUCT_CATEGORY'] == 'Kitchen'\n",
    "Furniture = review['PRODUCT_CATEGORY'] == 'Furniture'\n"
   ]
  },
  {
   "cell_type": "code",
   "execution_count": 95,
   "metadata": {},
   "outputs": [
    {
     "name": "stdout",
     "output_type": "stream",
     "text": [
      "Correlation between labels and ratings\n",
      "Fake review vs 1 star:  0.003612\n",
      "Fake review vs 2 star:  0.012759\n",
      "Fake review vs 3 star:  -0.002676\n",
      "Fake review vs 4 star:  0.003040\n",
      "Fake review vs 5 star:  -0.008880\n",
      "Real review vs 1 star:  -0.003612\n",
      "Real review vs 2 star:  -0.012759\n",
      "Real review vs 3 star:  0.002676\n",
      "Real review vs 4 star:  -0.003040\n",
      "Real review vs 5 star:  0.008880\n"
     ]
    }
   ],
   "source": [
    "# CORRELATION BETWEEN LABELS AND RATINGS\n",
    "print(\"Correlation between labels and ratings\")\n",
    "print(\"Fake review vs 1 star:  %f\"%(fake.corr(one)))\n",
    "print(\"Fake review vs 2 star:  %f\"%(fake.corr(two)))\n",
    "print(\"Fake review vs 3 star:  %f\"%(fake.corr(three)))\n",
    "print(\"Fake review vs 4 star:  %f\"%(fake.corr(four)))\n",
    "print(\"Fake review vs 5 star:  %f\"%(fake.corr(five)))\n",
    "print(\"Real review vs 1 star:  %f\"%real.corr(one))\n",
    "print(\"Real review vs 2 star:  %f\"%(real.corr(two)))\n",
    "print(\"Real review vs 3 star:  %f\"%(real.corr(three)))\n",
    "print(\"Real review vs 4 star:  %f\"%(real.corr(four)))\n",
    "print(\"Real review vs 5 star:  %f\"%(real.corr(five)))\n"
   ]
  },
  {
   "cell_type": "code",
   "execution_count": 96,
   "metadata": {},
   "outputs": [
    {
     "name": "stdout",
     "output_type": "stream",
     "text": [
      "Correlation between labels and verified purchases\n",
      "Real review vs Verified purchase:  0.569816\n",
      "Fake review vs Verified purchase:  -0.569816\n",
      "Real review vs Not verified purchase:  -0.569816\n",
      "Fake review vs Not verified purchase:  0.569816\n"
     ]
    }
   ],
   "source": [
    "# CORRELATION BETWEEN LABELS AND VERIFIED PURCHASES\n",
    "print(\"Correlation between labels and verified purchases\")\n",
    "print(\"Real review vs Verified purchase:  %f\"%(real.corr(y)))\n",
    "print(\"Fake review vs Verified purchase:  %f\"%(fake.corr(y)))\n",
    "print(\"Real review vs Not verified purchase:  %f\"%(real.corr(n)))\n",
    "print(\"Fake review vs Not verified purchase:  %f\"%(fake.corr(n)))\n"
   ]
  },
  {
   "cell_type": "code",
   "execution_count": 112,
   "metadata": {},
   "outputs": [
    {
     "name": "stdout",
     "output_type": "stream",
     "text": [
      "Correlation between labels and product category\n",
      "Fake review vs PC category:  0.000000\n",
      "Fake review vs Wireless category:  0.000000\n",
      "Fake review vs Baby category:  0.000000\n",
      "Fake review vs Beauty category:  0.000000\n",
      "Fake review vs Health category:  -0.000000\n",
      "Fake review vs Toys category:  -0.000000\n",
      "Fake review vs Kitchen category:  0.000000\n",
      "Fake review vs Product Furniture category:  -0.000000\n"
     ]
    }
   ],
   "source": [
    "# CORRELATION BETWEEN LABELS AND PRODUCT CATEGORY\n",
    "print(\"Correlation between labels and product category\")\n",
    "print(\"Fake review vs PC category:  %f\"%(fake.corr(pc)))\n",
    "print(\"Fake review vs Wireless category:  %f\"%(fake.corr(Wireless)))\n",
    "print(\"Fake review vs Baby category:  %f\"%(fake.corr(Baby)))\n",
    "print(\"Fake review vs Beauty category:  %f\"%(fake.corr(Beauty)))\n",
    "print(\"Fake review vs Health category:  %f\"%(real.corr(Health)))\n",
    "print(\"Fake review vs Toys category:  %f\"%(real.corr(Toys)))\n",
    "print(\"Fake review vs Kitchen category:  %f\"%(real.corr(Kitchen)))\n",
    "print(\"Fake review vs Product Furniture category:  %f\"%(real.corr(Furniture)))\n"
   ]
  }
 ],
 "metadata": {
  "kernelspec": {
   "display_name": "Python 3",
   "language": "python",
   "name": "python3"
  },
  "language_info": {
   "codemirror_mode": {
    "name": "ipython",
    "version": 3
   },
   "file_extension": ".py",
   "mimetype": "text/x-python",
   "name": "python",
   "nbconvert_exporter": "python",
   "pygments_lexer": "ipython3",
   "version": "3.6.3"
  }
 },
 "nbformat": 4,
 "nbformat_minor": 2
}
